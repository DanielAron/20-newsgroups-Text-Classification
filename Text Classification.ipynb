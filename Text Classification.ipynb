{
 "cells": [
  {
   "cell_type": "markdown",
   "metadata": {
    "Collapsed": "false"
   },
   "source": [
    "# Import Libraries"
   ]
  },
  {
   "cell_type": "code",
   "execution_count": 61,
   "metadata": {
    "Collapsed": "false"
   },
   "outputs": [],
   "source": [
    "# data manipulation\n",
    "import pandas as pd\n",
    "\n",
    "# data visualization\n",
    "import seaborn as sns\n",
    "import matplotlib.pyplot as plt\n",
    "import plotly.express as px\n",
    "\n",
    "# NLP\n",
    "import string\n",
    "\n",
    "import spacy\n",
    "from spacy.tokens.doc import Doc\n",
    "from spacy.matcher import Matcher\n",
    "\n",
    "from wordcloud import WordCloud\n",
    "\n",
    "import nltk\n",
    "from nltk.probability import FreqDist\n",
    "\n",
    "import re\n",
    "\n",
    "# machine learning\n",
    "from sklearn.datasets import fetch_20newsgroups\n",
    "from sklearn.feature_extraction.text import CountVectorizer, TfidfVectorizer\n",
    "from sklearn.model_selection import train_test_split\n",
    "\n",
    "nlp = spacy.load('en_core_web_md')"
   ]
  },
  {
   "cell_type": "markdown",
   "metadata": {
    "Collapsed": "false"
   },
   "source": [
    "# Helper Functions"
   ]
  },
  {
   "cell_type": "code",
   "execution_count": 2,
   "metadata": {
    "Collapsed": "false"
   },
   "outputs": [],
   "source": [
    "def get_n_color_palette(palette_name, n_colors, as_hex=False):\n",
    "    palette = sns.color_palette(palette=palette_name, n_colors=n_colors)\n",
    "    if as_hex:\n",
    "        palette = palette.as_hex()\n",
    "    palette.reverse()\n",
    "    return palette"
   ]
  },
  {
   "cell_type": "markdown",
   "metadata": {
    "Collapsed": "false"
   },
   "source": [
    "# Load and Prepare Data"
   ]
  },
  {
   "cell_type": "code",
   "execution_count": 3,
   "metadata": {
    "Collapsed": "false"
   },
   "outputs": [],
   "source": [
    "newsgroups_data = fetch_20newsgroups(subset='all')"
   ]
  },
  {
   "cell_type": "code",
   "execution_count": 4,
   "metadata": {
    "Collapsed": "false"
   },
   "outputs": [],
   "source": [
    "categories = newsgroups_data.target_names"
   ]
  },
  {
   "cell_type": "code",
   "execution_count": 5,
   "metadata": {
    "Collapsed": "false"
   },
   "outputs": [],
   "source": [
    "df = pd.DataFrame(data={\n",
    "    'text': newsgroups_data.data,\n",
    "    'category': newsgroups_data.target\n",
    "})"
   ]
  },
  {
   "cell_type": "code",
   "execution_count": 6,
   "metadata": {
    "Collapsed": "false"
   },
   "outputs": [],
   "source": [
    "df['category'] = df['category'].apply(lambda x: categories[x])"
   ]
  },
  {
   "cell_type": "code",
   "execution_count": 7,
   "metadata": {
    "Collapsed": "false"
   },
   "outputs": [
    {
     "data": {
      "text/html": [
       "<div>\n",
       "<style scoped>\n",
       "    .dataframe tbody tr th:only-of-type {\n",
       "        vertical-align: middle;\n",
       "    }\n",
       "\n",
       "    .dataframe tbody tr th {\n",
       "        vertical-align: top;\n",
       "    }\n",
       "\n",
       "    .dataframe thead th {\n",
       "        text-align: right;\n",
       "    }\n",
       "</style>\n",
       "<table border=\"1\" class=\"dataframe\">\n",
       "  <thead>\n",
       "    <tr style=\"text-align: right;\">\n",
       "      <th></th>\n",
       "      <th>text</th>\n",
       "      <th>category</th>\n",
       "    </tr>\n",
       "  </thead>\n",
       "  <tbody>\n",
       "    <tr>\n",
       "      <th>0</th>\n",
       "      <td>From: Mamatha Devineni Ratnam &lt;mr47+@andrew.cm...</td>\n",
       "      <td>rec.sport.hockey</td>\n",
       "    </tr>\n",
       "    <tr>\n",
       "      <th>1</th>\n",
       "      <td>From: mblawson@midway.ecn.uoknor.edu (Matthew ...</td>\n",
       "      <td>comp.sys.ibm.pc.hardware</td>\n",
       "    </tr>\n",
       "    <tr>\n",
       "      <th>2</th>\n",
       "      <td>From: hilmi-er@dsv.su.se (Hilmi Eren)\\nSubject...</td>\n",
       "      <td>talk.politics.mideast</td>\n",
       "    </tr>\n",
       "    <tr>\n",
       "      <th>3</th>\n",
       "      <td>From: guyd@austin.ibm.com (Guy Dawson)\\nSubjec...</td>\n",
       "      <td>comp.sys.ibm.pc.hardware</td>\n",
       "    </tr>\n",
       "    <tr>\n",
       "      <th>4</th>\n",
       "      <td>From: Alexander Samuel McDiarmid &lt;am2o+@andrew...</td>\n",
       "      <td>comp.sys.mac.hardware</td>\n",
       "    </tr>\n",
       "  </tbody>\n",
       "</table>\n",
       "</div>"
      ],
      "text/plain": [
       "                                                text                  category\n",
       "0  From: Mamatha Devineni Ratnam <mr47+@andrew.cm...          rec.sport.hockey\n",
       "1  From: mblawson@midway.ecn.uoknor.edu (Matthew ...  comp.sys.ibm.pc.hardware\n",
       "2  From: hilmi-er@dsv.su.se (Hilmi Eren)\\nSubject...     talk.politics.mideast\n",
       "3  From: guyd@austin.ibm.com (Guy Dawson)\\nSubjec...  comp.sys.ibm.pc.hardware\n",
       "4  From: Alexander Samuel McDiarmid <am2o+@andrew...     comp.sys.mac.hardware"
      ]
     },
     "execution_count": 7,
     "metadata": {},
     "output_type": "execute_result"
    }
   ],
   "source": [
    "df.head()"
   ]
  },
  {
   "cell_type": "markdown",
   "metadata": {
    "Collapsed": "false"
   },
   "source": [
    "# What is this Data?"
   ]
  },
  {
   "cell_type": "markdown",
   "metadata": {
    "Collapsed": "false"
   },
   "source": [
    "The 20 Newsgroups data set is a collection of approximately 20,000 newsgroup documents, partitioned (nearly) evenly across 20 different newsgroups."
   ]
  },
  {
   "cell_type": "markdown",
   "metadata": {
    "Collapsed": "false"
   },
   "source": [
    "The data is organized into 20 different newsgroups, each corresponding to a different topic. Some of the newsgroups are very closely related to each other (e.g. `comp.sys.ibm.pc.hardware` / `comp.sys.mac.hardware`), while others are highly unrelated (e.g `misc.forsale` / `soc.religion.christian`).\n",
    "\n",
    "Here is a list of the 20 newsgroups, partitioned (more or less) according to subject matter:"
   ]
  },
  {
   "cell_type": "markdown",
   "metadata": {
    "Collapsed": "false"
   },
   "source": [
    "<table style='font-family:\"Courier New\", Courier, monospace; font-size:80%'>\n",
    "    <tr>\n",
    "        <td>comp.graphics<br>comp.os.ms-windows.misc<br>comp.sys.ibm.pc.hardware<br>comp.sys.mac.hardware<br>comp.windows.x\n",
    "        </td>\n",
    "        <td>rec.autos<br>rec.motorcycles<br>rec.sport.baseball<br>rec.sport.hockey</td>\n",
    "        <td>sci.crypt<br>sci.electronics<br>sci.med<br>sci.space</td>\n",
    "    </tr>\n",
    "    <tr>\n",
    "        <td>misc.forsale</td>\n",
    "        <td>talk.politics.misc<br>talk.politics.guns<br>talk.politics.mideast</td>\n",
    "        <td>talk.religion.misc<br>alt.atheism<br>soc.religion.christian</td>\n",
    "    </tr>\n",
    "</table>"
   ]
  },
  {
   "cell_type": "markdown",
   "metadata": {
    "Collapsed": "false"
   },
   "source": [
    "# Data Statistics"
   ]
  },
  {
   "cell_type": "code",
   "execution_count": 8,
   "metadata": {
    "Collapsed": "false"
   },
   "outputs": [
    {
     "name": "stderr",
     "output_type": "stream",
     "text": [
      "/home/resaln/anaconda3/lib/python3.7/site-packages/ipykernel_launcher.py:5: FutureWarning:\n",
      "\n",
      "using a dict on a Series for aggregation\n",
      "is deprecated and will be removed in a future version\n",
      "\n"
     ]
    }
   ],
   "source": [
    "categories_statistics_df = df.groupby(by='category')['text'].agg({\n",
    "                                'count': lambda x: x.size,\n",
    "                                'mean': lambda x: x.str.len().mean(),\n",
    "                                'max': lambda x: x.str.len().max(),\n",
    "                                'min': lambda x: x.str.len().min()\n",
    "                            })\\\n",
    "                            .reset_index()\\\n",
    "                            .sort_values(by='count', ascending=False)"
   ]
  },
  {
   "cell_type": "code",
   "execution_count": 9,
   "metadata": {
    "Collapsed": "false"
   },
   "outputs": [
    {
     "data": {
      "application/vnd.plotly.v1+json": {
       "config": {
        "plotlyServerURL": "https://plot.ly"
       },
       "data": [
        {
         "domain": {
          "x": [
           0,
           1
          ],
          "y": [
           0,
           1
          ]
         },
         "hoverlabel": {
          "namelength": 0
         },
         "hovertemplate": "category=%{label}<br>count=%{value}",
         "labels": [
          "rec.sport.hockey",
          "soc.religion.christian",
          "rec.motorcycles",
          "rec.sport.baseball",
          "sci.crypt",
          "rec.autos",
          "sci.med",
          "comp.windows.x",
          "sci.space",
          "comp.os.ms-windows.misc",
          "sci.electronics",
          "comp.sys.ibm.pc.hardware",
          "misc.forsale",
          "comp.graphics",
          "comp.sys.mac.hardware",
          "talk.politics.mideast",
          "talk.politics.guns",
          "alt.atheism",
          "talk.politics.misc",
          "talk.religion.misc"
         ],
         "legendgroup": "",
         "name": "",
         "showlegend": true,
         "type": "pie",
         "values": [
          999,
          997,
          996,
          994,
          991,
          990,
          990,
          988,
          987,
          985,
          984,
          982,
          975,
          973,
          963,
          940,
          910,
          799,
          775,
          628
         ]
        }
       ],
       "layout": {
        "autosize": true,
        "legend": {
         "tracegroupgap": 0
        },
        "piecolorway": [
         "#083c7d",
         "#084990",
         "#0b559f",
         "#1561a9",
         "#1e6db2",
         "#2b7bba",
         "#3787c0",
         "#4493c7",
         "#539ecd",
         "#63a8d3",
         "#75b4d8",
         "#89bedc",
         "#9cc9e1",
         "#abd0e6",
         "#bad6eb",
         "#c9ddf0",
         "#d2e3f3",
         "#dbe9f6",
         "#e4eff9",
         "#eef5fc"
        ],
        "template": {
         "data": {
          "bar": [
           {
            "error_x": {
             "color": "#2a3f5f"
            },
            "error_y": {
             "color": "#2a3f5f"
            },
            "marker": {
             "line": {
              "color": "#E5ECF6",
              "width": 0.5
             }
            },
            "type": "bar"
           }
          ],
          "barpolar": [
           {
            "marker": {
             "line": {
              "color": "#E5ECF6",
              "width": 0.5
             }
            },
            "type": "barpolar"
           }
          ],
          "carpet": [
           {
            "aaxis": {
             "endlinecolor": "#2a3f5f",
             "gridcolor": "white",
             "linecolor": "white",
             "minorgridcolor": "white",
             "startlinecolor": "#2a3f5f"
            },
            "baxis": {
             "endlinecolor": "#2a3f5f",
             "gridcolor": "white",
             "linecolor": "white",
             "minorgridcolor": "white",
             "startlinecolor": "#2a3f5f"
            },
            "type": "carpet"
           }
          ],
          "choropleth": [
           {
            "colorbar": {
             "outlinewidth": 0,
             "ticks": ""
            },
            "type": "choropleth"
           }
          ],
          "contour": [
           {
            "colorbar": {
             "outlinewidth": 0,
             "ticks": ""
            },
            "colorscale": [
             [
              0,
              "#0d0887"
             ],
             [
              0.1111111111111111,
              "#46039f"
             ],
             [
              0.2222222222222222,
              "#7201a8"
             ],
             [
              0.3333333333333333,
              "#9c179e"
             ],
             [
              0.4444444444444444,
              "#bd3786"
             ],
             [
              0.5555555555555556,
              "#d8576b"
             ],
             [
              0.6666666666666666,
              "#ed7953"
             ],
             [
              0.7777777777777778,
              "#fb9f3a"
             ],
             [
              0.8888888888888888,
              "#fdca26"
             ],
             [
              1,
              "#f0f921"
             ]
            ],
            "type": "contour"
           }
          ],
          "contourcarpet": [
           {
            "colorbar": {
             "outlinewidth": 0,
             "ticks": ""
            },
            "type": "contourcarpet"
           }
          ],
          "heatmap": [
           {
            "colorbar": {
             "outlinewidth": 0,
             "ticks": ""
            },
            "colorscale": [
             [
              0,
              "#0d0887"
             ],
             [
              0.1111111111111111,
              "#46039f"
             ],
             [
              0.2222222222222222,
              "#7201a8"
             ],
             [
              0.3333333333333333,
              "#9c179e"
             ],
             [
              0.4444444444444444,
              "#bd3786"
             ],
             [
              0.5555555555555556,
              "#d8576b"
             ],
             [
              0.6666666666666666,
              "#ed7953"
             ],
             [
              0.7777777777777778,
              "#fb9f3a"
             ],
             [
              0.8888888888888888,
              "#fdca26"
             ],
             [
              1,
              "#f0f921"
             ]
            ],
            "type": "heatmap"
           }
          ],
          "heatmapgl": [
           {
            "colorbar": {
             "outlinewidth": 0,
             "ticks": ""
            },
            "colorscale": [
             [
              0,
              "#0d0887"
             ],
             [
              0.1111111111111111,
              "#46039f"
             ],
             [
              0.2222222222222222,
              "#7201a8"
             ],
             [
              0.3333333333333333,
              "#9c179e"
             ],
             [
              0.4444444444444444,
              "#bd3786"
             ],
             [
              0.5555555555555556,
              "#d8576b"
             ],
             [
              0.6666666666666666,
              "#ed7953"
             ],
             [
              0.7777777777777778,
              "#fb9f3a"
             ],
             [
              0.8888888888888888,
              "#fdca26"
             ],
             [
              1,
              "#f0f921"
             ]
            ],
            "type": "heatmapgl"
           }
          ],
          "histogram": [
           {
            "marker": {
             "colorbar": {
              "outlinewidth": 0,
              "ticks": ""
             }
            },
            "type": "histogram"
           }
          ],
          "histogram2d": [
           {
            "colorbar": {
             "outlinewidth": 0,
             "ticks": ""
            },
            "colorscale": [
             [
              0,
              "#0d0887"
             ],
             [
              0.1111111111111111,
              "#46039f"
             ],
             [
              0.2222222222222222,
              "#7201a8"
             ],
             [
              0.3333333333333333,
              "#9c179e"
             ],
             [
              0.4444444444444444,
              "#bd3786"
             ],
             [
              0.5555555555555556,
              "#d8576b"
             ],
             [
              0.6666666666666666,
              "#ed7953"
             ],
             [
              0.7777777777777778,
              "#fb9f3a"
             ],
             [
              0.8888888888888888,
              "#fdca26"
             ],
             [
              1,
              "#f0f921"
             ]
            ],
            "type": "histogram2d"
           }
          ],
          "histogram2dcontour": [
           {
            "colorbar": {
             "outlinewidth": 0,
             "ticks": ""
            },
            "colorscale": [
             [
              0,
              "#0d0887"
             ],
             [
              0.1111111111111111,
              "#46039f"
             ],
             [
              0.2222222222222222,
              "#7201a8"
             ],
             [
              0.3333333333333333,
              "#9c179e"
             ],
             [
              0.4444444444444444,
              "#bd3786"
             ],
             [
              0.5555555555555556,
              "#d8576b"
             ],
             [
              0.6666666666666666,
              "#ed7953"
             ],
             [
              0.7777777777777778,
              "#fb9f3a"
             ],
             [
              0.8888888888888888,
              "#fdca26"
             ],
             [
              1,
              "#f0f921"
             ]
            ],
            "type": "histogram2dcontour"
           }
          ],
          "mesh3d": [
           {
            "colorbar": {
             "outlinewidth": 0,
             "ticks": ""
            },
            "type": "mesh3d"
           }
          ],
          "parcoords": [
           {
            "line": {
             "colorbar": {
              "outlinewidth": 0,
              "ticks": ""
             }
            },
            "type": "parcoords"
           }
          ],
          "pie": [
           {
            "automargin": true,
            "type": "pie"
           }
          ],
          "scatter": [
           {
            "marker": {
             "colorbar": {
              "outlinewidth": 0,
              "ticks": ""
             }
            },
            "type": "scatter"
           }
          ],
          "scatter3d": [
           {
            "line": {
             "colorbar": {
              "outlinewidth": 0,
              "ticks": ""
             }
            },
            "marker": {
             "colorbar": {
              "outlinewidth": 0,
              "ticks": ""
             }
            },
            "type": "scatter3d"
           }
          ],
          "scattercarpet": [
           {
            "marker": {
             "colorbar": {
              "outlinewidth": 0,
              "ticks": ""
             }
            },
            "type": "scattercarpet"
           }
          ],
          "scattergeo": [
           {
            "marker": {
             "colorbar": {
              "outlinewidth": 0,
              "ticks": ""
             }
            },
            "type": "scattergeo"
           }
          ],
          "scattergl": [
           {
            "marker": {
             "colorbar": {
              "outlinewidth": 0,
              "ticks": ""
             }
            },
            "type": "scattergl"
           }
          ],
          "scattermapbox": [
           {
            "marker": {
             "colorbar": {
              "outlinewidth": 0,
              "ticks": ""
             }
            },
            "type": "scattermapbox"
           }
          ],
          "scatterpolar": [
           {
            "marker": {
             "colorbar": {
              "outlinewidth": 0,
              "ticks": ""
             }
            },
            "type": "scatterpolar"
           }
          ],
          "scatterpolargl": [
           {
            "marker": {
             "colorbar": {
              "outlinewidth": 0,
              "ticks": ""
             }
            },
            "type": "scatterpolargl"
           }
          ],
          "scatterternary": [
           {
            "marker": {
             "colorbar": {
              "outlinewidth": 0,
              "ticks": ""
             }
            },
            "type": "scatterternary"
           }
          ],
          "surface": [
           {
            "colorbar": {
             "outlinewidth": 0,
             "ticks": ""
            },
            "colorscale": [
             [
              0,
              "#0d0887"
             ],
             [
              0.1111111111111111,
              "#46039f"
             ],
             [
              0.2222222222222222,
              "#7201a8"
             ],
             [
              0.3333333333333333,
              "#9c179e"
             ],
             [
              0.4444444444444444,
              "#bd3786"
             ],
             [
              0.5555555555555556,
              "#d8576b"
             ],
             [
              0.6666666666666666,
              "#ed7953"
             ],
             [
              0.7777777777777778,
              "#fb9f3a"
             ],
             [
              0.8888888888888888,
              "#fdca26"
             ],
             [
              1,
              "#f0f921"
             ]
            ],
            "type": "surface"
           }
          ],
          "table": [
           {
            "cells": {
             "fill": {
              "color": "#EBF0F8"
             },
             "line": {
              "color": "white"
             }
            },
            "header": {
             "fill": {
              "color": "#C8D4E3"
             },
             "line": {
              "color": "white"
             }
            },
            "type": "table"
           }
          ]
         },
         "layout": {
          "annotationdefaults": {
           "arrowcolor": "#2a3f5f",
           "arrowhead": 0,
           "arrowwidth": 1
          },
          "coloraxis": {
           "colorbar": {
            "outlinewidth": 0,
            "ticks": ""
           }
          },
          "colorscale": {
           "diverging": [
            [
             0,
             "#8e0152"
            ],
            [
             0.1,
             "#c51b7d"
            ],
            [
             0.2,
             "#de77ae"
            ],
            [
             0.3,
             "#f1b6da"
            ],
            [
             0.4,
             "#fde0ef"
            ],
            [
             0.5,
             "#f7f7f7"
            ],
            [
             0.6,
             "#e6f5d0"
            ],
            [
             0.7,
             "#b8e186"
            ],
            [
             0.8,
             "#7fbc41"
            ],
            [
             0.9,
             "#4d9221"
            ],
            [
             1,
             "#276419"
            ]
           ],
           "sequential": [
            [
             0,
             "#0d0887"
            ],
            [
             0.1111111111111111,
             "#46039f"
            ],
            [
             0.2222222222222222,
             "#7201a8"
            ],
            [
             0.3333333333333333,
             "#9c179e"
            ],
            [
             0.4444444444444444,
             "#bd3786"
            ],
            [
             0.5555555555555556,
             "#d8576b"
            ],
            [
             0.6666666666666666,
             "#ed7953"
            ],
            [
             0.7777777777777778,
             "#fb9f3a"
            ],
            [
             0.8888888888888888,
             "#fdca26"
            ],
            [
             1,
             "#f0f921"
            ]
           ],
           "sequentialminus": [
            [
             0,
             "#0d0887"
            ],
            [
             0.1111111111111111,
             "#46039f"
            ],
            [
             0.2222222222222222,
             "#7201a8"
            ],
            [
             0.3333333333333333,
             "#9c179e"
            ],
            [
             0.4444444444444444,
             "#bd3786"
            ],
            [
             0.5555555555555556,
             "#d8576b"
            ],
            [
             0.6666666666666666,
             "#ed7953"
            ],
            [
             0.7777777777777778,
             "#fb9f3a"
            ],
            [
             0.8888888888888888,
             "#fdca26"
            ],
            [
             1,
             "#f0f921"
            ]
           ]
          },
          "colorway": [
           "#636efa",
           "#EF553B",
           "#00cc96",
           "#ab63fa",
           "#FFA15A",
           "#19d3f3",
           "#FF6692",
           "#B6E880",
           "#FF97FF",
           "#FECB52"
          ],
          "font": {
           "color": "#2a3f5f"
          },
          "geo": {
           "bgcolor": "white",
           "lakecolor": "white",
           "landcolor": "#E5ECF6",
           "showlakes": true,
           "showland": true,
           "subunitcolor": "white"
          },
          "hoverlabel": {
           "align": "left"
          },
          "hovermode": "closest",
          "mapbox": {
           "style": "light"
          },
          "paper_bgcolor": "white",
          "plot_bgcolor": "#E5ECF6",
          "polar": {
           "angularaxis": {
            "gridcolor": "white",
            "linecolor": "white",
            "ticks": ""
           },
           "bgcolor": "#E5ECF6",
           "radialaxis": {
            "gridcolor": "white",
            "linecolor": "white",
            "ticks": ""
           }
          },
          "scene": {
           "xaxis": {
            "backgroundcolor": "#E5ECF6",
            "gridcolor": "white",
            "gridwidth": 2,
            "linecolor": "white",
            "showbackground": true,
            "ticks": "",
            "zerolinecolor": "white"
           },
           "yaxis": {
            "backgroundcolor": "#E5ECF6",
            "gridcolor": "white",
            "gridwidth": 2,
            "linecolor": "white",
            "showbackground": true,
            "ticks": "",
            "zerolinecolor": "white"
           },
           "zaxis": {
            "backgroundcolor": "#E5ECF6",
            "gridcolor": "white",
            "gridwidth": 2,
            "linecolor": "white",
            "showbackground": true,
            "ticks": "",
            "zerolinecolor": "white"
           }
          },
          "shapedefaults": {
           "line": {
            "color": "#2a3f5f"
           }
          },
          "ternary": {
           "aaxis": {
            "gridcolor": "white",
            "linecolor": "white",
            "ticks": ""
           },
           "baxis": {
            "gridcolor": "white",
            "linecolor": "white",
            "ticks": ""
           },
           "bgcolor": "#E5ECF6",
           "caxis": {
            "gridcolor": "white",
            "linecolor": "white",
            "ticks": ""
           }
          },
          "title": {
           "x": 0.05
          },
          "xaxis": {
           "automargin": true,
           "gridcolor": "white",
           "linecolor": "white",
           "ticks": "",
           "title": {
            "standoff": 15
           },
           "zerolinecolor": "white",
           "zerolinewidth": 2
          },
          "yaxis": {
           "automargin": true,
           "gridcolor": "white",
           "linecolor": "white",
           "ticks": "",
           "title": {
            "standoff": 15
           },
           "zerolinecolor": "white",
           "zerolinewidth": 2
          }
         }
        },
        "title": {
         "text": "Categories count"
        }
       }
      },
      "image/png": "[encoded data removed]"
     },
     "metadata": {},
     "output_type": "display_data"
    }
   ],
   "source": [
    "fig = px.pie(data_frame=categories_statistics_df, names='category', values='count',\n",
    "            color_discrete_sequence=get_n_color_palette('Blues', 20, True),\n",
    "            title='Categories count')\n",
    "fig.show()"
   ]
  },
  {
   "cell_type": "markdown",
   "metadata": {
    "Collapsed": "false"
   },
   "source": [
    "It's obvious that the dataset is *balanced*"
   ]
  },
  {
   "cell_type": "code",
   "execution_count": 10,
   "metadata": {
    "Collapsed": "false"
   },
   "outputs": [
    {
     "data": {
      "application/vnd.plotly.v1+json": {
       "config": {
        "plotlyServerURL": "https://plot.ly"
       },
       "data": [
        {
         "alignmentgroup": "True",
         "hoverlabel": {
          "namelength": 0
         },
         "hovertemplate": "category=%{x}<br>mean=%{marker.color}",
         "legendgroup": "",
         "marker": {
          "color": [
           1049.4758974358974,
           1205.8920041536865,
           1305.3248472505093,
           1310.1345381526105,
           1355.7215447154472,
           1406.1232323232323,
           1474.2273641851107,
           1806.2918807810895,
           1853.873873873874,
           1941.0263424518744,
           2003.0949494949496,
           2059.591093117409,
           2175.809283551968,
           2180.1589486858575,
           2209.723076923077,
           2279.797770700637,
           2364.813440320963,
           2511.3868020304567,
           2810.771612903226,
           3189.8936170212764
          ],
          "coloraxis": "coloraxis"
         },
         "name": "",
         "offsetgroup": "",
         "orientation": "v",
         "showlegend": false,
         "textposition": "auto",
         "type": "bar",
         "x": [
          "misc.forsale",
          "comp.sys.mac.hardware",
          "comp.sys.ibm.pc.hardware",
          "rec.motorcycles",
          "sci.electronics",
          "rec.autos",
          "rec.sport.baseball",
          "comp.graphics",
          "rec.sport.hockey",
          "sci.space",
          "sci.med",
          "comp.windows.x",
          "sci.crypt",
          "alt.atheism",
          "talk.politics.guns",
          "talk.religion.misc",
          "soc.religion.christian",
          "comp.os.ms-windows.misc",
          "talk.politics.misc",
          "talk.politics.mideast"
         ],
         "xaxis": "x",
         "y": [
          1049.4758974358974,
          1205.8920041536865,
          1305.3248472505093,
          1310.1345381526105,
          1355.7215447154472,
          1406.1232323232323,
          1474.2273641851107,
          1806.2918807810895,
          1853.873873873874,
          1941.0263424518744,
          2003.0949494949496,
          2059.591093117409,
          2175.809283551968,
          2180.1589486858575,
          2209.723076923077,
          2279.797770700637,
          2364.813440320963,
          2511.3868020304567,
          2810.771612903226,
          3189.8936170212764
         ],
         "yaxis": "y"
        }
       ],
       "layout": {
        "autosize": true,
        "barmode": "relative",
        "coloraxis": {
         "colorbar": {
          "title": {
           "text": "mean"
          }
         },
         "colorscale": [
          [
           0,
           "#0d0887"
          ],
          [
           0.1111111111111111,
           "#46039f"
          ],
          [
           0.2222222222222222,
           "#7201a8"
          ],
          [
           0.3333333333333333,
           "#9c179e"
          ],
          [
           0.4444444444444444,
           "#bd3786"
          ],
          [
           0.5555555555555556,
           "#d8576b"
          ],
          [
           0.6666666666666666,
           "#ed7953"
          ],
          [
           0.7777777777777778,
           "#fb9f3a"
          ],
          [
           0.8888888888888888,
           "#fdca26"
          ],
          [
           1,
           "#f0f921"
          ]
         ]
        },
        "legend": {
         "tracegroupgap": 0
        },
        "template": {
         "data": {
          "bar": [
           {
            "error_x": {
             "color": "#2a3f5f"
            },
            "error_y": {
             "color": "#2a3f5f"
            },
            "marker": {
             "line": {
              "color": "#E5ECF6",
              "width": 0.5
             }
            },
            "type": "bar"
           }
          ],
          "barpolar": [
           {
            "marker": {
             "line": {
              "color": "#E5ECF6",
              "width": 0.5
             }
            },
            "type": "barpolar"
           }
          ],
          "carpet": [
           {
            "aaxis": {
             "endlinecolor": "#2a3f5f",
             "gridcolor": "white",
             "linecolor": "white",
             "minorgridcolor": "white",
             "startlinecolor": "#2a3f5f"
            },
            "baxis": {
             "endlinecolor": "#2a3f5f",
             "gridcolor": "white",
             "linecolor": "white",
             "minorgridcolor": "white",
             "startlinecolor": "#2a3f5f"
            },
            "type": "carpet"
           }
          ],
          "choropleth": [
           {
            "colorbar": {
             "outlinewidth": 0,
             "ticks": ""
            },
            "type": "choropleth"
           }
          ],
          "contour": [
           {
            "colorbar": {
             "outlinewidth": 0,
             "ticks": ""
            },
            "colorscale": [
             [
              0,
              "#0d0887"
             ],
             [
              0.1111111111111111,
              "#46039f"
             ],
             [
              0.2222222222222222,
              "#7201a8"
             ],
             [
              0.3333333333333333,
              "#9c179e"
             ],
             [
              0.4444444444444444,
              "#bd3786"
             ],
             [
              0.5555555555555556,
              "#d8576b"
             ],
             [
              0.6666666666666666,
              "#ed7953"
             ],
             [
              0.7777777777777778,
              "#fb9f3a"
             ],
             [
              0.8888888888888888,
              "#fdca26"
             ],
             [
              1,
              "#f0f921"
             ]
            ],
            "type": "contour"
           }
          ],
          "contourcarpet": [
           {
            "colorbar": {
             "outlinewidth": 0,
             "ticks": ""
            },
            "type": "contourcarpet"
           }
          ],
          "heatmap": [
           {
            "colorbar": {
             "outlinewidth": 0,
             "ticks": ""
            },
            "colorscale": [
             [
              0,
              "#0d0887"
             ],
             [
              0.1111111111111111,
              "#46039f"
             ],
             [
              0.2222222222222222,
              "#7201a8"
             ],
             [
              0.3333333333333333,
              "#9c179e"
             ],
             [
              0.4444444444444444,
              "#bd3786"
             ],
             [
              0.5555555555555556,
              "#d8576b"
             ],
             [
              0.6666666666666666,
              "#ed7953"
             ],
             [
              0.7777777777777778,
              "#fb9f3a"
             ],
             [
              0.8888888888888888,
              "#fdca26"
             ],
             [
              1,
              "#f0f921"
             ]
            ],
            "type": "heatmap"
           }
          ],
          "heatmapgl": [
           {
            "colorbar": {
             "outlinewidth": 0,
             "ticks": ""
            },
            "colorscale": [
             [
              0,
              "#0d0887"
             ],
             [
              0.1111111111111111,
              "#46039f"
             ],
             [
              0.2222222222222222,
              "#7201a8"
             ],
             [
              0.3333333333333333,
              "#9c179e"
             ],
             [
              0.4444444444444444,
              "#bd3786"
             ],
             [
              0.5555555555555556,
              "#d8576b"
             ],
             [
              0.6666666666666666,
              "#ed7953"
             ],
             [
              0.7777777777777778,
              "#fb9f3a"
             ],
             [
              0.8888888888888888,
              "#fdca26"
             ],
             [
              1,
              "#f0f921"
             ]
            ],
            "type": "heatmapgl"
           }
          ],
          "histogram": [
           {
            "marker": {
             "colorbar": {
              "outlinewidth": 0,
              "ticks": ""
             }
            },
            "type": "histogram"
           }
          ],
          "histogram2d": [
           {
            "colorbar": {
             "outlinewidth": 0,
             "ticks": ""
            },
            "colorscale": [
             [
              0,
              "#0d0887"
             ],
             [
              0.1111111111111111,
              "#46039f"
             ],
             [
              0.2222222222222222,
              "#7201a8"
             ],
             [
              0.3333333333333333,
              "#9c179e"
             ],
             [
              0.4444444444444444,
              "#bd3786"
             ],
             [
              0.5555555555555556,
              "#d8576b"
             ],
             [
              0.6666666666666666,
              "#ed7953"
             ],
             [
              0.7777777777777778,
              "#fb9f3a"
             ],
             [
              0.8888888888888888,
              "#fdca26"
             ],
             [
              1,
              "#f0f921"
             ]
            ],
            "type": "histogram2d"
           }
          ],
          "histogram2dcontour": [
           {
            "colorbar": {
             "outlinewidth": 0,
             "ticks": ""
            },
            "colorscale": [
             [
              0,
              "#0d0887"
             ],
             [
              0.1111111111111111,
              "#46039f"
             ],
             [
              0.2222222222222222,
              "#7201a8"
             ],
             [
              0.3333333333333333,
              "#9c179e"
             ],
             [
              0.4444444444444444,
              "#bd3786"
             ],
             [
              0.5555555555555556,
              "#d8576b"
             ],
             [
              0.6666666666666666,
              "#ed7953"
             ],
             [
              0.7777777777777778,
              "#fb9f3a"
             ],
             [
              0.8888888888888888,
              "#fdca26"
             ],
             [
              1,
              "#f0f921"
             ]
            ],
            "type": "histogram2dcontour"
           }
          ],
          "mesh3d": [
           {
            "colorbar": {
             "outlinewidth": 0,
             "ticks": ""
            },
            "type": "mesh3d"
           }
          ],
          "parcoords": [
           {
            "line": {
             "colorbar": {
              "outlinewidth": 0,
              "ticks": ""
             }
            },
            "type": "parcoords"
           }
          ],
          "pie": [
           {
            "automargin": true,
            "type": "pie"
           }
          ],
          "scatter": [
           {
            "marker": {
             "colorbar": {
              "outlinewidth": 0,
              "ticks": ""
             }
            },
            "type": "scatter"
           }
          ],
          "scatter3d": [
           {
            "line": {
             "colorbar": {
              "outlinewidth": 0,
              "ticks": ""
             }
            },
            "marker": {
             "colorbar": {
              "outlinewidth": 0,
              "ticks": ""
             }
            },
            "type": "scatter3d"
           }
          ],
          "scattercarpet": [
           {
            "marker": {
             "colorbar": {
              "outlinewidth": 0,
              "ticks": ""
             }
            },
            "type": "scattercarpet"
           }
          ],
          "scattergeo": [
           {
            "marker": {
             "colorbar": {
              "outlinewidth": 0,
              "ticks": ""
             }
            },
            "type": "scattergeo"
           }
          ],
          "scattergl": [
           {
            "marker": {
             "colorbar": {
              "outlinewidth": 0,
              "ticks": ""
             }
            },
            "type": "scattergl"
           }
          ],
          "scattermapbox": [
           {
            "marker": {
             "colorbar": {
              "outlinewidth": 0,
              "ticks": ""
             }
            },
            "type": "scattermapbox"
           }
          ],
          "scatterpolar": [
           {
            "marker": {
             "colorbar": {
              "outlinewidth": 0,
              "ticks": ""
             }
            },
            "type": "scatterpolar"
           }
          ],
          "scatterpolargl": [
           {
            "marker": {
             "colorbar": {
              "outlinewidth": 0,
              "ticks": ""
             }
            },
            "type": "scatterpolargl"
           }
          ],
          "scatterternary": [
           {
            "marker": {
             "colorbar": {
              "outlinewidth": 0,
              "ticks": ""
             }
            },
            "type": "scatterternary"
           }
          ],
          "surface": [
           {
            "colorbar": {
             "outlinewidth": 0,
             "ticks": ""
            },
            "colorscale": [
             [
              0,
              "#0d0887"
             ],
             [
              0.1111111111111111,
              "#46039f"
             ],
             [
              0.2222222222222222,
              "#7201a8"
             ],
             [
              0.3333333333333333,
              "#9c179e"
             ],
             [
              0.4444444444444444,
              "#bd3786"
             ],
             [
              0.5555555555555556,
              "#d8576b"
             ],
             [
              0.6666666666666666,
              "#ed7953"
             ],
             [
              0.7777777777777778,
              "#fb9f3a"
             ],
             [
              0.8888888888888888,
              "#fdca26"
             ],
             [
              1,
              "#f0f921"
             ]
            ],
            "type": "surface"
           }
          ],
          "table": [
           {
            "cells": {
             "fill": {
              "color": "#EBF0F8"
             },
             "line": {
              "color": "white"
             }
            },
            "header": {
             "fill": {
              "color": "#C8D4E3"
             },
             "line": {
              "color": "white"
             }
            },
            "type": "table"
           }
          ]
         },
         "layout": {
          "annotationdefaults": {
           "arrowcolor": "#2a3f5f",
           "arrowhead": 0,
           "arrowwidth": 1
          },
          "coloraxis": {
           "colorbar": {
            "outlinewidth": 0,
            "ticks": ""
           }
          },
          "colorscale": {
           "diverging": [
            [
             0,
             "#8e0152"
            ],
            [
             0.1,
             "#c51b7d"
            ],
            [
             0.2,
             "#de77ae"
            ],
            [
             0.3,
             "#f1b6da"
            ],
            [
             0.4,
             "#fde0ef"
            ],
            [
             0.5,
             "#f7f7f7"
            ],
            [
             0.6,
             "#e6f5d0"
            ],
            [
             0.7,
             "#b8e186"
            ],
            [
             0.8,
             "#7fbc41"
            ],
            [
             0.9,
             "#4d9221"
            ],
            [
             1,
             "#276419"
            ]
           ],
           "sequential": [
            [
             0,
             "#0d0887"
            ],
            [
             0.1111111111111111,
             "#46039f"
            ],
            [
             0.2222222222222222,
             "#7201a8"
            ],
            [
             0.3333333333333333,
             "#9c179e"
            ],
            [
             0.4444444444444444,
             "#bd3786"
            ],
            [
             0.5555555555555556,
             "#d8576b"
            ],
            [
             0.6666666666666666,
             "#ed7953"
            ],
            [
             0.7777777777777778,
             "#fb9f3a"
            ],
            [
             0.8888888888888888,
             "#fdca26"
            ],
            [
             1,
             "#f0f921"
            ]
           ],
           "sequentialminus": [
            [
             0,
             "#0d0887"
            ],
            [
             0.1111111111111111,
             "#46039f"
            ],
            [
             0.2222222222222222,
             "#7201a8"
            ],
            [
             0.3333333333333333,
             "#9c179e"
            ],
            [
             0.4444444444444444,
             "#bd3786"
            ],
            [
             0.5555555555555556,
             "#d8576b"
            ],
            [
             0.6666666666666666,
             "#ed7953"
            ],
            [
             0.7777777777777778,
             "#fb9f3a"
            ],
            [
             0.8888888888888888,
             "#fdca26"
            ],
            [
             1,
             "#f0f921"
            ]
           ]
          },
          "colorway": [
           "#636efa",
           "#EF553B",
           "#00cc96",
           "#ab63fa",
           "#FFA15A",
           "#19d3f3",
           "#FF6692",
           "#B6E880",
           "#FF97FF",
           "#FECB52"
          ],
          "font": {
           "color": "#2a3f5f"
          },
          "geo": {
           "bgcolor": "white",
           "lakecolor": "white",
           "landcolor": "#E5ECF6",
           "showlakes": true,
           "showland": true,
           "subunitcolor": "white"
          },
          "hoverlabel": {
           "align": "left"
          },
          "hovermode": "closest",
          "mapbox": {
           "style": "light"
          },
          "paper_bgcolor": "white",
          "plot_bgcolor": "#E5ECF6",
          "polar": {
           "angularaxis": {
            "gridcolor": "white",
            "linecolor": "white",
            "ticks": ""
           },
           "bgcolor": "#E5ECF6",
           "radialaxis": {
            "gridcolor": "white",
            "linecolor": "white",
            "ticks": ""
           }
          },
          "scene": {
           "xaxis": {
            "backgroundcolor": "#E5ECF6",
            "gridcolor": "white",
            "gridwidth": 2,
            "linecolor": "white",
            "showbackground": true,
            "ticks": "",
            "zerolinecolor": "white"
           },
           "yaxis": {
            "backgroundcolor": "#E5ECF6",
            "gridcolor": "white",
            "gridwidth": 2,
            "linecolor": "white",
            "showbackground": true,
            "ticks": "",
            "zerolinecolor": "white"
           },
           "zaxis": {
            "backgroundcolor": "#E5ECF6",
            "gridcolor": "white",
            "gridwidth": 2,
            "linecolor": "white",
            "showbackground": true,
            "ticks": "",
            "zerolinecolor": "white"
           }
          },
          "shapedefaults": {
           "line": {
            "color": "#2a3f5f"
           }
          },
          "ternary": {
           "aaxis": {
            "gridcolor": "white",
            "linecolor": "white",
            "ticks": ""
           },
           "baxis": {
            "gridcolor": "white",
            "linecolor": "white",
            "ticks": ""
           },
           "bgcolor": "#E5ECF6",
           "caxis": {
            "gridcolor": "white",
            "linecolor": "white",
            "ticks": ""
           }
          },
          "title": {
           "x": 0.05
          },
          "xaxis": {
           "automargin": true,
           "gridcolor": "white",
           "linecolor": "white",
           "ticks": "",
           "title": {
            "standoff": 15
           },
           "zerolinecolor": "white",
           "zerolinewidth": 2
          },
          "yaxis": {
           "automargin": true,
           "gridcolor": "white",
           "linecolor": "white",
           "ticks": "",
           "title": {
            "standoff": 15
           },
           "zerolinecolor": "white",
           "zerolinewidth": 2
          }
         }
        },
        "title": {
         "text": "Average Article Length by Category"
        },
        "xaxis": {
         "anchor": "y",
         "autorange": true,
         "domain": [
          0,
          1
         ],
         "range": [
          -0.5,
          19.5
         ],
         "title": {
          "text": "category"
         },
         "type": "category"
        },
        "yaxis": {
         "anchor": "x",
         "autorange": true,
         "domain": [
          0,
          1
         ],
         "range": [
          0,
          3357.7827547592383
         ],
         "title": {
          "text": "mean"
         },
         "type": "linear"
        }
       }
      },
      "image/png": "[encoded data removed]"
     },
     "metadata": {},
     "output_type": "display_data"
    }
   ],
   "source": [
    "fig = px.bar(data_frame=categories_statistics_df.sort_values(by='mean'), x='category', y='mean',\n",
    "            color='mean', title='Average Article Length by Category')\n",
    "fig.show()"
   ]
  },
  {
   "cell_type": "markdown",
   "metadata": {
    "Collapsed": "false"
   },
   "source": [
    "This chart shows how long the *polictics* articles, compared to *computer* articles"
   ]
  },
  {
   "cell_type": "markdown",
   "metadata": {
    "Collapsed": "false"
   },
   "source": [
    "# Word Cloud"
   ]
  },
  {
   "cell_type": "code",
   "execution_count": 11,
   "metadata": {
    "Collapsed": "false"
   },
   "outputs": [],
   "source": [
    "en_stop_words = nlp.Defaults.stop_words"
   ]
  },
  {
   "cell_type": "code",
   "execution_count": 12,
   "metadata": {
    "Collapsed": "false"
   },
   "outputs": [],
   "source": [
    "categories_text_df = df.groupby(by='category')\\\n",
    "                        .agg({\n",
    "                            'text': ' '.join\n",
    "                        })\\\n",
    "                        .reset_index()"
   ]
  },
  {
   "cell_type": "code",
   "execution_count": 13,
   "metadata": {
    "Collapsed": "false"
   },
   "outputs": [
    {
     "data": {
      "text/html": [
       "<div>\n",
       "<style scoped>\n",
       "    .dataframe tbody tr th:only-of-type {\n",
       "        vertical-align: middle;\n",
       "    }\n",
       "\n",
       "    .dataframe tbody tr th {\n",
       "        vertical-align: top;\n",
       "    }\n",
       "\n",
       "    .dataframe thead th {\n",
       "        text-align: right;\n",
       "    }\n",
       "</style>\n",
       "<table border=\"1\" class=\"dataframe\">\n",
       "  <thead>\n",
       "    <tr style=\"text-align: right;\">\n",
       "      <th></th>\n",
       "      <th>category</th>\n",
       "      <th>text</th>\n",
       "    </tr>\n",
       "  </thead>\n",
       "  <tbody>\n",
       "    <tr>\n",
       "      <th>0</th>\n",
       "      <td>alt.atheism</td>\n",
       "      <td>From: kmr4@po.CWRU.edu (Keith M. Ryan)\\nSubjec...</td>\n",
       "    </tr>\n",
       "    <tr>\n",
       "      <th>1</th>\n",
       "      <td>comp.graphics</td>\n",
       "      <td>From: ruocco@ghost.dsi.unimi.it (sergio ruocco...</td>\n",
       "    </tr>\n",
       "    <tr>\n",
       "      <th>2</th>\n",
       "      <td>comp.os.ms-windows.misc</td>\n",
       "      <td>From: gibsonm@cs.arizona.edu (Matthew H Gibson...</td>\n",
       "    </tr>\n",
       "    <tr>\n",
       "      <th>3</th>\n",
       "      <td>comp.sys.ibm.pc.hardware</td>\n",
       "      <td>From: mblawson@midway.ecn.uoknor.edu (Matthew ...</td>\n",
       "    </tr>\n",
       "    <tr>\n",
       "      <th>4</th>\n",
       "      <td>comp.sys.mac.hardware</td>\n",
       "      <td>From: Alexander Samuel McDiarmid &lt;am2o+@andrew...</td>\n",
       "    </tr>\n",
       "    <tr>\n",
       "      <th>5</th>\n",
       "      <td>comp.windows.x</td>\n",
       "      <td>From: cws@Faultline.Com (Carl Schmidtmann)\\nSu...</td>\n",
       "    </tr>\n",
       "    <tr>\n",
       "      <th>6</th>\n",
       "      <td>misc.forsale</td>\n",
       "      <td>From: jtobias@cs.tamu.edu (Jason T Tobias)\\nSu...</td>\n",
       "    </tr>\n",
       "    <tr>\n",
       "      <th>7</th>\n",
       "      <td>rec.autos</td>\n",
       "      <td>From: jackw@boi.hp.com (jack wood)\\nSubject: R...</td>\n",
       "    </tr>\n",
       "    <tr>\n",
       "      <th>8</th>\n",
       "      <td>rec.motorcycles</td>\n",
       "      <td>From: mjs@sys.uea.ac.uk (Mike Sixsmith)\\nSubje...</td>\n",
       "    </tr>\n",
       "    <tr>\n",
       "      <th>9</th>\n",
       "      <td>rec.sport.baseball</td>\n",
       "      <td>Organization: Washington University, St. Louis...</td>\n",
       "    </tr>\n",
       "    <tr>\n",
       "      <th>10</th>\n",
       "      <td>rec.sport.hockey</td>\n",
       "      <td>From: Mamatha Devineni Ratnam &lt;mr47+@andrew.cm...</td>\n",
       "    </tr>\n",
       "    <tr>\n",
       "      <th>11</th>\n",
       "      <td>sci.crypt</td>\n",
       "      <td>From: steve-b@access.digex.com (Steve Brinich)...</td>\n",
       "    </tr>\n",
       "    <tr>\n",
       "      <th>12</th>\n",
       "      <td>sci.electronics</td>\n",
       "      <td>From: tell@cs.unc.edu (Stephen Tell)\\nSubject:...</td>\n",
       "    </tr>\n",
       "    <tr>\n",
       "      <th>13</th>\n",
       "      <td>sci.med</td>\n",
       "      <td>From: filipe@vxcrna.cern.ch (VINCI)\\nSubject: ...</td>\n",
       "    </tr>\n",
       "    <tr>\n",
       "      <th>14</th>\n",
       "      <td>sci.space</td>\n",
       "      <td>From: prb@access.digex.com (Pat)\\nSubject: Con...</td>\n",
       "    </tr>\n",
       "    <tr>\n",
       "      <th>15</th>\n",
       "      <td>soc.religion.christian</td>\n",
       "      <td>From: darndt@nic.gac.edu (David Arndt)\\nSubjec...</td>\n",
       "    </tr>\n",
       "    <tr>\n",
       "      <th>16</th>\n",
       "      <td>talk.politics.guns</td>\n",
       "      <td>Subject: Re: BD's did themselves--you're all p...</td>\n",
       "    </tr>\n",
       "    <tr>\n",
       "      <th>17</th>\n",
       "      <td>talk.politics.mideast</td>\n",
       "      <td>From: hilmi-er@dsv.su.se (Hilmi Eren)\\nSubject...</td>\n",
       "    </tr>\n",
       "    <tr>\n",
       "      <th>18</th>\n",
       "      <td>talk.politics.misc</td>\n",
       "      <td>From: demon@desire.wright.edu (Not a Boomer)\\n...</td>\n",
       "    </tr>\n",
       "    <tr>\n",
       "      <th>19</th>\n",
       "      <td>talk.religion.misc</td>\n",
       "      <td>From: arromdee@jyusenkyou.cs.jhu.edu (Ken Arro...</td>\n",
       "    </tr>\n",
       "  </tbody>\n",
       "</table>\n",
       "</div>"
      ],
      "text/plain": [
       "                    category  \\\n",
       "0                alt.atheism   \n",
       "1              comp.graphics   \n",
       "2    comp.os.ms-windows.misc   \n",
       "3   comp.sys.ibm.pc.hardware   \n",
       "4      comp.sys.mac.hardware   \n",
       "5             comp.windows.x   \n",
       "6               misc.forsale   \n",
       "7                  rec.autos   \n",
       "8            rec.motorcycles   \n",
       "9         rec.sport.baseball   \n",
       "10          rec.sport.hockey   \n",
       "11                 sci.crypt   \n",
       "12           sci.electronics   \n",
       "13                   sci.med   \n",
       "14                 sci.space   \n",
       "15    soc.religion.christian   \n",
       "16        talk.politics.guns   \n",
       "17     talk.politics.mideast   \n",
       "18        talk.politics.misc   \n",
       "19        talk.religion.misc   \n",
       "\n",
       "                                                 text  \n",
       "0   From: kmr4@po.CWRU.edu (Keith M. Ryan)\\nSubjec...  \n",
       "1   From: ruocco@ghost.dsi.unimi.it (sergio ruocco...  \n",
       "2   From: gibsonm@cs.arizona.edu (Matthew H Gibson...  \n",
       "3   From: mblawson@midway.ecn.uoknor.edu (Matthew ...  \n",
       "4   From: Alexander Samuel McDiarmid <am2o+@andrew...  \n",
       "5   From: cws@Faultline.Com (Carl Schmidtmann)\\nSu...  \n",
       "6   From: jtobias@cs.tamu.edu (Jason T Tobias)\\nSu...  \n",
       "7   From: jackw@boi.hp.com (jack wood)\\nSubject: R...  \n",
       "8   From: mjs@sys.uea.ac.uk (Mike Sixsmith)\\nSubje...  \n",
       "9   Organization: Washington University, St. Louis...  \n",
       "10  From: Mamatha Devineni Ratnam <mr47+@andrew.cm...  \n",
       "11  From: steve-b@access.digex.com (Steve Brinich)...  \n",
       "12  From: tell@cs.unc.edu (Stephen Tell)\\nSubject:...  \n",
       "13  From: filipe@vxcrna.cern.ch (VINCI)\\nSubject: ...  \n",
       "14  From: prb@access.digex.com (Pat)\\nSubject: Con...  \n",
       "15  From: darndt@nic.gac.edu (David Arndt)\\nSubjec...  \n",
       "16  Subject: Re: BD's did themselves--you're all p...  \n",
       "17  From: hilmi-er@dsv.su.se (Hilmi Eren)\\nSubject...  \n",
       "18  From: demon@desire.wright.edu (Not a Boomer)\\n...  \n",
       "19  From: arromdee@jyusenkyou.cs.jhu.edu (Ken Arro...  "
      ]
     },
     "execution_count": 13,
     "metadata": {},
     "output_type": "execute_result"
    }
   ],
   "source": [
    "categories_text_df"
   ]
  },
  {
   "cell_type": "code",
   "execution_count": 14,
   "metadata": {
    "Collapsed": "false"
   },
   "outputs": [],
   "source": [
    "def plot_word_cloud(category_name, category_text):\n",
    "    plt.subplots(figsize = (8,8))\n",
    "    wc = WordCloud(background_color=\"white\", stopwords=en_stop_words, width=1000, height=600)\n",
    "    wc.generate(category_text)\n",
    "    plt.title(label=category_name)\n",
    "    plt.axis(\"off\")\n",
    "    plt.imshow(wc, interpolation=\"bilinear\")\n",
    "    plt.show()"
   ]
  },
  {
   "cell_type": "code",
   "execution_count": 15,
   "metadata": {
    "Collapsed": "false"
   },
   "outputs": [],
   "source": [
    "# for idx, row in categories_text_df.iterrows():\n",
    "#     category_name, category_text = row['category'], row['text']\n",
    "#     plot_word_cloud(category_name, category_text)"
   ]
  },
  {
   "cell_type": "markdown",
   "metadata": {
    "Collapsed": "false"
   },
   "source": [
    "## Bigrams WordCloud"
   ]
  },
  {
   "cell_type": "code",
   "execution_count": 16,
   "metadata": {
    "Collapsed": "false"
   },
   "outputs": [],
   "source": [
    "text = categories_text_df[categories_text_df['category'] == 'talk.politics.mideast']\\\n",
    "                        ['text']\\\n",
    "                        .values[0]"
   ]
  },
  {
   "cell_type": "code",
   "execution_count": 17,
   "metadata": {
    "Collapsed": "false"
   },
   "outputs": [],
   "source": [
    "bigrams = list(nltk.bigrams(text.split()))"
   ]
  },
  {
   "cell_type": "code",
   "execution_count": 18,
   "metadata": {
    "Collapsed": "false"
   },
   "outputs": [],
   "source": [
    "bigrams_freq = dict(FreqDist(bigrams))"
   ]
  },
  {
   "cell_type": "code",
   "execution_count": 19,
   "metadata": {
    "Collapsed": "false"
   },
   "outputs": [],
   "source": [
    "bigrams_freq = {\n",
    "    ' '.join(k): v for k, v in bigrams_freq.items()\n",
    "}"
   ]
  },
  {
   "cell_type": "code",
   "execution_count": 20,
   "metadata": {
    "Collapsed": "false"
   },
   "outputs": [
    {
     "data": {
      "image/png": "[encoded data removed]",
      "text/plain": [
       "<Figure size 576x576 with 1 Axes>"
      ]
     },
     "metadata": {
      "needs_background": "light"
     },
     "output_type": "display_data"
    }
   ],
   "source": [
    "plt.subplots(figsize = (8,8))\n",
    "wc = WordCloud(background_color=\"white\", stopwords=en_stop_words, width=1000, height=600)\n",
    "wc.generate_from_frequencies(bigrams_freq)\n",
    "plt.title(label='talk.politics.mideast')\n",
    "plt.axis(\"off\")\n",
    "plt.imshow(wc, interpolation=\"bilinear\")\n",
    "plt.show()"
   ]
  },
  {
   "cell_type": "markdown",
   "metadata": {
    "Collapsed": "false"
   },
   "source": [
    "# Playing around with `spaCy`"
   ]
  },
  {
   "cell_type": "code",
   "execution_count": 39,
   "metadata": {
    "Collapsed": "false"
   },
   "outputs": [],
   "source": [
    "articles = df['text'].to_list()"
   ]
  },
  {
   "cell_type": "code",
   "execution_count": 23,
   "metadata": {
    "Collapsed": "false"
   },
   "outputs": [],
   "source": [
    "email_pattern = [\n",
    "    {\n",
    "        \"TEXT\": {\n",
    "            \"REGEX\": \".+@.+\"\n",
    "        }\n",
    "    },\n",
    "    {\n",
    "        \"TEXT\": {\n",
    "            \"IN\": [\".\"]\n",
    "        }\n",
    "    },\n",
    "    {\n",
    "        \"TEXT\": {\n",
    "            \"REGEX\": \".+\"\n",
    "        }\n",
    "    }\n",
    "]\n",
    "\n",
    "matcher = Matcher(nlp.vocab)\n",
    "\n",
    "matcher.add(\"email_pattern\", None, email_pattern)"
   ]
  },
  {
   "cell_type": "code",
   "execution_count": 24,
   "metadata": {
    "Collapsed": "false"
   },
   "outputs": [],
   "source": [
    "def is_clean_token(token):\n",
    "    # a token is *clean* if it satisfies the following conditions:\n",
    "    # 1- token is not written number (one, two, hundred, ...) and not digit number (1, 2, 100, ...)\n",
    "    # 2- token is not email and not URL\n",
    "    # 3- token is not a STPWORD and not a punctuation\n",
    "    # 4- token contains only ascii characters, and token contains only alphabetic characters\n",
    "    # TODO:\n",
    "    #   This function need a review, a punctuation might be useful, for tokens like `'re' which is `are`\n",
    "    return not (token.like_num or token.is_digit or token.like_url \n",
    "                or token.like_email or token.is_stop or token.is_punct\n",
    "                or not token.is_ascii or not token.is_alpha)"
   ]
  },
  {
   "cell_type": "code",
   "execution_count": 25,
   "metadata": {
    "Collapsed": "false"
   },
   "outputs": [],
   "source": [
    "def clean_tokens_component(doc):\n",
    "\n",
    "    # delete `DATE` entities\n",
    "    tokens = [token for token in doc if token.ent_type not in ['DATE']]\n",
    "\n",
    "    # keep only clean tokens\n",
    "    tokens = [token for token in tokens if is_clean_token(token)]\n",
    "    \n",
    "    # lemmatization\n",
    "    tokens = [token.lemma_ for token in tokens]\n",
    "    \n",
    "    # convert to lower case\n",
    "    tokens = [lemma.lower() for lemma in tokens]\n",
    "\n",
    "    # construct resulting Doc object\n",
    "    return Doc(doc.vocab, words=tokens)"
   ]
  },
  {
   "cell_type": "code",
   "execution_count": 26,
   "metadata": {
    "Collapsed": "false"
   },
   "outputs": [],
   "source": [
    "# if nlp.has_pipe('clean_tokens_component'):\n",
    "#     nlp.replace_pipe('clean_tokens_component', clean_tokens_component)\n",
    "# else:\n",
    "#     nlp.add_pipe(clean_tokens_component, last=True)"
   ]
  },
  {
   "cell_type": "code",
   "execution_count": 27,
   "metadata": {
    "Collapsed": "false"
   },
   "outputs": [],
   "source": [
    "# docs = list(nlp.pipe(articles, batch_size=100))"
   ]
  },
  {
   "cell_type": "code",
   "execution_count": 28,
   "metadata": {
    "Collapsed": "false"
   },
   "outputs": [],
   "source": [
    "# docs_text = list(map(lambda x: x.text, docs))"
   ]
  },
  {
   "cell_type": "code",
   "execution_count": 29,
   "metadata": {
    "Collapsed": "false"
   },
   "outputs": [],
   "source": [
    "# words = (' '.join(docs_text)).split()"
   ]
  },
  {
   "cell_type": "code",
   "execution_count": 30,
   "metadata": {
    "Collapsed": "false"
   },
   "outputs": [],
   "source": [
    "# words_freq = FreqDist(words)"
   ]
  },
  {
   "cell_type": "markdown",
   "metadata": {
    "Collapsed": "false"
   },
   "source": [
    "# Split the data"
   ]
  },
  {
   "cell_type": "code",
   "execution_count": 82,
   "metadata": {
    "Collapsed": "false"
   },
   "outputs": [],
   "source": [
    "X = df['text']\n",
    "y = df['category']"
   ]
  },
  {
   "cell_type": "code",
   "execution_count": 83,
   "metadata": {
    "Collapsed": "false"
   },
   "outputs": [],
   "source": [
    "X_train, X_test, y_train, y_test = train_test_split(X, y, random_state=42, stratify=y)"
   ]
  },
  {
   "cell_type": "markdown",
   "metadata": {
    "Collapsed": "false"
   },
   "source": [
    "# Text Vectorization"
   ]
  },
  {
   "cell_type": "code",
   "execution_count": 41,
   "metadata": {
    "Collapsed": "false"
   },
   "outputs": [],
   "source": [
    "stop_words = spacy.lang.en.stop_words.STOP_WORDS\n",
    "punctuations = string.punctuation"
   ]
  },
  {
   "cell_type": "code",
   "execution_count": 87,
   "metadata": {
    "Collapsed": "false"
   },
   "outputs": [],
   "source": [
    "def spacy_analyzer(document):\n",
    "    \n",
    "    # apply the language pipeline on the passed document\n",
    "    doc = nlp(document)\n",
    "    \n",
    "    tokens = [token for token in doc if token.ent_type not in ['DATE']]\n",
    "    \n",
    "    # Lemmatizing each token and converting each token into lowercase\n",
    "    tokens = [token.lemma_.lower().strip() if token.lemma_ != \"-PRON-\" else token.lower_ for token in tokens]\n",
    "\n",
    "    # Removing stop words\n",
    "    tokens = [token for token in tokens if token not in stop_words and token not in punctuations]\n",
    "\n",
    "    # return preprocessed list of tokens\n",
    "    return tokens"
   ]
  },
  {
   "cell_type": "code",
   "execution_count": 88,
   "metadata": {
    "Collapsed": "false"
   },
   "outputs": [],
   "source": [
    "vectorizer = TfidfVectorizer(analyzer=spacy_analyzer)"
   ]
  },
  {
   "cell_type": "code",
   "execution_count": 89,
   "metadata": {
    "Collapsed": "false"
   },
   "outputs": [],
   "source": [
    "X = vectorizer.fit_transform(X_train[:100])"
   ]
  },
  {
   "cell_type": "code",
   "execution_count": 90,
   "metadata": {
    "Collapsed": "false"
   },
   "outputs": [
    {
     "data": {
      "text/plain": [
       "[\"'em\",\n",
       " '+41',\n",
       " '+49',\n",
       " '--',\n",
       " '---',\n",
       " '----',\n",
       " '-------',\n",
       " '----------',\n",
       " '---------------',\n",
       " '-------------------',\n",
       " '---------------------',\n",
       " '-------------------------+-----------------------------------------------+',\n",
       " '-----------------------------',\n",
       " '-----------------------------------------',\n",
       " '------------------------------------------------------------',\n",
       " '-----------------------------------------------------------------------',\n",
       " '------------------------------------------------------------------------',\n",
       " '-------------------------------------------------------------------------',\n",
       " '---------------------------------------------------------------------------+',\n",
       " '----------------------------------------------------------------------------',\n",
       " '------------------------------------------------------------------------------',\n",
       " '-------------------------------------------------------------------------------',\n",
       " '--------------------------------------------------------------------------------',\n",
       " '----=====',\n",
       " '----bi',\n",
       " '--->paul',\n",
       " '--><--',\n",
       " '--if',\n",
       " '--john',\n",
       " '--tussman',\n",
       " '--yvan',\n",
       " '-///',\n",
       " '-0400',\n",
       " '-0700',\n",
       " '-2',\n",
       " '-4',\n",
       " '-5',\n",
       " '-8',\n",
       " '-=-=-=-=-=-=-=-=-=-=-=-=-=-=-=-=-=-=-=-=-=-=-=-=-=-=-=-=-=-=-=-=-=-',\n",
       " '-=-=-=-=-=-=-=-=-=-=-=-=-=-=-=-=-=-=-=-=-=-=-=-=-=-=-=-=-=-=-=-=-=-=-=-=-=-=-=',\n",
       " '-alan',\n",
       " '-blocksmooth',\n",
       " '-fs',\n",
       " '-j',\n",
       " '-o-+--------------------------------------------------------------+-o-+',\n",
       " '-optimize',\n",
       " '-q',\n",
       " '-quality',\n",
       " '-sample',\n",
       " '-smooth',\n",
       " '-steve',\n",
       " '-voltaire',\n",
       " '..',\n",
       " '...',\n",
       " '....',\n",
       " '.....',\n",
       " '......',\n",
       " '.......',\n",
       " '.............',\n",
       " '..................',\n",
       " '.....................',\n",
       " '........................',\n",
       " '.........................',\n",
       " '..................................',\n",
       " '.25',\n",
       " '.35',\n",
       " '.45',\n",
       " '.500',\n",
       " '.mac.hardware',\n",
       " '.not',\n",
       " '.otwo',\n",
       " '.sig',\n",
       " '.signature',\n",
       " '.tar',\n",
       " '/-',\n",
       " '//',\n",
       " '///',\n",
       " '///\\\\',\n",
       " '//e',\n",
       " '//oo',\n",
       " '//|',\n",
       " '//||',\n",
       " '/\\\\',\n",
       " '/\\\\__/',\n",
       " '/____/',\n",
       " '/atari',\n",
       " '/graphics',\n",
       " '/info',\n",
       " '/june',\n",
       " '/mirrors',\n",
       " '/pub',\n",
       " '/thanks',\n",
       " '/|',\n",
       " '0',\n",
       " '0.08',\n",
       " '0.20',\n",
       " '0.28',\n",
       " '0.4',\n",
       " '0.5',\n",
       " '0.7vp',\n",
       " '0.84',\n",
       " '0.9',\n",
       " '0.97',\n",
       " '00',\n",
       " '00:08:01',\n",
       " '0223',\n",
       " '0226',\n",
       " '02:07:00',\n",
       " '0408',\n",
       " '05:27:00',\n",
       " '09:10:51',\n",
       " '0:41',\n",
       " '1',\n",
       " '1(317)495',\n",
       " '1,335',\n",
       " '1,384',\n",
       " '1-bit',\n",
       " '1-in-50',\n",
       " '1.0',\n",
       " '1.01',\n",
       " '1.04',\n",
       " '1.05',\n",
       " '1.1',\n",
       " '1.2',\n",
       " '1.20',\n",
       " '1.25',\n",
       " '1.3',\n",
       " '1.4-b1',\n",
       " '1.5',\n",
       " '1.6.1',\n",
       " '1.75',\n",
       " '1.x',\n",
       " '1/2',\n",
       " '1/3rd',\n",
       " '1/4',\n",
       " '1/4th',\n",
       " '10',\n",
       " '10(5):536,(1991',\n",
       " '100',\n",
       " '1000',\n",
       " '1000r',\n",
       " '1010',\n",
       " '1024',\n",
       " '1027',\n",
       " '109',\n",
       " '10:21',\n",
       " '10gram',\n",
       " '10k.',\n",
       " '10th',\n",
       " '11',\n",
       " '11-pin',\n",
       " '11/92',\n",
       " '11259.75.uupcb@hal9k.ann',\n",
       " '1145040',\n",
       " '115863@bu.edu',\n",
       " '119:43',\n",
       " '11:17',\n",
       " '12',\n",
       " '12,000',\n",
       " '12/2',\n",
       " '120',\n",
       " '120vac',\n",
       " '122',\n",
       " '123',\n",
       " '12353',\n",
       " '126',\n",
       " '128.123.35.151',\n",
       " '1280',\n",
       " '1280x1024ni',\n",
       " '1280x1024x75',\n",
       " '129.79.20.84',\n",
       " '129.97.50.50',\n",
       " '12:19',\n",
       " '13',\n",
       " '130',\n",
       " '130.60.80.80',\n",
       " '135',\n",
       " '137.39.1.9',\n",
       " '137.81.1.3',\n",
       " '14',\n",
       " '14.95',\n",
       " '141.210.10.117',\n",
       " '14627',\n",
       " '15',\n",
       " '15,000',\n",
       " '15-bit',\n",
       " '15-digit',\n",
       " '150',\n",
       " '15238',\n",
       " '15378@optilink',\n",
       " '15436@optilink',\n",
       " '15437@optilink',\n",
       " '15441@optilink',\n",
       " '15446@optilink',\n",
       " '155622',\n",
       " '16',\n",
       " '16-bit',\n",
       " '16-color',\n",
       " '16.3\"x16.22\"x17.64',\n",
       " '16.zip',\n",
       " '1600x1280',\n",
       " '162',\n",
       " '16:40:53',\n",
       " '16bb89c7d.r1328@vmcms.csuohio.edu',\n",
       " '17',\n",
       " '170',\n",
       " '173:1',\n",
       " '1762dt',\n",
       " '179.00',\n",
       " '17:11',\n",
       " '17:23',\n",
       " '18',\n",
       " '18.172.1.27',\n",
       " '185',\n",
       " '1869',\n",
       " '18:16',\n",
       " '18:22',\n",
       " '18:33',\n",
       " '18:37',\n",
       " '18:42',\n",
       " '18:55',\n",
       " '19',\n",
       " '192.48.96.9',\n",
       " '192.88.110.20',\n",
       " '1920',\n",
       " '1938',\n",
       " '1940',\n",
       " '1948',\n",
       " '1953',\n",
       " '1953)--',\n",
       " '1954',\n",
       " '1967',\n",
       " '1969',\n",
       " '1971',\n",
       " '1972',\n",
       " '1974',\n",
       " '1976',\n",
       " '1977',\n",
       " '1978',\n",
       " '1979',\n",
       " '1980',\n",
       " '1981',\n",
       " '1982',\n",
       " '1983',\n",
       " '1984',\n",
       " '1985',\n",
       " '1986',\n",
       " '1987',\n",
       " '1988',\n",
       " '1989',\n",
       " '199',\n",
       " '1992',\n",
       " '1993',\n",
       " '1993apr09.182821.28779@i88.isc.com',\n",
       " '1993apr12.161742.22647@yang.earlham.edu',\n",
       " '1993apr13.144030.28994@cbnewsh.cb.att.com',\n",
       " '1993apr14.101241.476@mtechca.maintech.com',\n",
       " '1993apr14.165617.3215@cbnewsm.cb.att.com',\n",
       " '1993apr14.172145.27458@ecsvax.uncecs.edu',\n",
       " '1993apr15.214133.3371@guvax.acc.georgetown.edu',\n",
       " '1993apr16.194708.13273@vax.oxford.ac.uk',\n",
       " '1993apr17.023116.23031@eecs.nwu.edu',\n",
       " '1993apr17.033050.24901@pony',\n",
       " '1993apr17.093826.5227@nwnexus',\n",
       " '1993apr18.001319.2340@gnv.ifas.ufl.edu',\n",
       " '1993apr18.091051.14496@ke4zv.uucp',\n",
       " '1993apr18.190534.28044@magnus.acs.ohio',\n",
       " '1993apr18.192508.12442@isc-br.isc-br.com',\n",
       " '1993apr19.131239.11670@aragorn.unibe.ch',\n",
       " '1993apr20.032017.5783@wuecl.wustl.edu',\n",
       " '1993apr20.164053.4731@galileo.cc.rochester.edu',\n",
       " '1993apr21.124531.13053@ac.dal.ca',\n",
       " '1993apr21.204036.13723@rick.dgbt.doc.ca',\n",
       " '1993apr22.142540.20687@icd.ab.com',\n",
       " '1993apr23.002908.24394@nntpd.lkg.dec.com',\n",
       " '1993apr25.165315.1190@monu6.cc.monash.edu.au',\n",
       " '1993apr29.145140.10559@newsgate.sps.mot.com',\n",
       " '1993apr3.110048.4636@hemlock.cray.com',\n",
       " '1993apr7.124724.22534@yang.earlham.edu',\n",
       " '1993apr8.200326.27560@infonode.ingr.com',\n",
       " '1994',\n",
       " '19:01:58',\n",
       " '19:25',\n",
       " '19:50',\n",
       " '19:59',\n",
       " '1:10',\n",
       " '1:15',\n",
       " '1:24',\n",
       " '1:2603/106',\n",
       " '1:27',\n",
       " '1:7',\n",
       " '1k.',\n",
       " '1mb',\n",
       " '1qpaujinnecq@lynx.unm.edu',\n",
       " '1qqikr$sd1@morrow.stanford.edu',\n",
       " '1r1otuinndb2@dns1.nmsu.edu',\n",
       " '1r4cvpinnkv2@ctron-news.ctron.com',\n",
       " '1rr6c3$9u3@calvin',\n",
       " '1st',\n",
       " '1t4pkc$ovf@almaak.usc.edu',\n",
       " '1vp',\n",
       " '1x1',\n",
       " '2',\n",
       " '2.0',\n",
       " '2.0.1',\n",
       " '2.0.8',\n",
       " '2.00',\n",
       " '2.04',\n",
       " '2.1',\n",
       " '2.21',\n",
       " '2.3',\n",
       " '2.3.2',\n",
       " '2.4a',\n",
       " '2.x',\n",
       " '20',\n",
       " '200',\n",
       " '2000',\n",
       " '2004',\n",
       " '200ug',\n",
       " '2010',\n",
       " '2018',\n",
       " '21',\n",
       " '212',\n",
       " '2130',\n",
       " '216-5888@mcimail.com',\n",
       " '21:25:08',\n",
       " '21:32',\n",
       " '21:33',\n",
       " '21:34',\n",
       " '21:39:30',\n",
       " '21st',\n",
       " '22',\n",
       " '22(no',\n",
       " '22.95',\n",
       " '23',\n",
       " '230',\n",
       " '230-',\n",
       " '230-restricted',\n",
       " '230-we',\n",
       " '230-you',\n",
       " '235',\n",
       " '23:06:30',\n",
       " '23:06:31',\n",
       " '23:23',\n",
       " '23:45:09',\n",
       " '24',\n",
       " '24-bit',\n",
       " '24.95',\n",
       " '240438',\n",
       " '241',\n",
       " '245',\n",
       " '25',\n",
       " '250',\n",
       " '25192',\n",
       " '2527',\n",
       " '256',\n",
       " '256-color',\n",
       " '256-or',\n",
       " '26',\n",
       " '27',\n",
       " '275',\n",
       " '28',\n",
       " '286',\n",
       " '286-compatible',\n",
       " '29',\n",
       " '294',\n",
       " '2965',\n",
       " '2:00',\n",
       " '2:12',\n",
       " '2:49',\n",
       " '2:6',\n",
       " '2nd',\n",
       " '2x',\n",
       " '3',\n",
       " '3-series',\n",
       " '3.0',\n",
       " '3.03',\n",
       " '3.1',\n",
       " '3.10',\n",
       " '3.14',\n",
       " '3.15',\n",
       " '3.5',\n",
       " '30',\n",
       " '3000',\n",
       " '3006',\n",
       " '30ug',\n",
       " '31',\n",
       " '3121',\n",
       " '32',\n",
       " '32-bit',\n",
       " '325',\n",
       " '325ix',\n",
       " '32mhz',\n",
       " '33',\n",
       " '33mhz',\n",
       " '34',\n",
       " '34,--in',\n",
       " '344',\n",
       " '35',\n",
       " '35,000',\n",
       " '3511',\n",
       " '359',\n",
       " '36',\n",
       " '36.44.0.6',\n",
       " '360k',\n",
       " '37',\n",
       " '3732',\n",
       " '378',\n",
       " '38',\n",
       " '38406',\n",
       " '386',\n",
       " '386-only',\n",
       " '386/486',\n",
       " '386dx',\n",
       " '386dx-16',\n",
       " '386dx-20',\n",
       " '386dx-25',\n",
       " '386dx-40',\n",
       " '386max',\n",
       " '39',\n",
       " '39.95',\n",
       " '394',\n",
       " '396',\n",
       " '3:11',\n",
       " '3:38',\n",
       " '3:45',\n",
       " '3d',\n",
       " '3ds.set',\n",
       " '3mwieu4@cmuvm.cmich.edu',\n",
       " '3mwieu4@cmuvm.csv.cmich.edu',\n",
       " '4',\n",
       " '4-sale',\n",
       " '40',\n",
       " '400',\n",
       " '400k',\n",
       " '403',\n",
       " '408',\n",
       " '409)745-(vox)3899;(rec)1581;dat(2507',\n",
       " '40mhz',\n",
       " '41',\n",
       " '412',\n",
       " '42',\n",
       " '42.6',\n",
       " '429',\n",
       " '43',\n",
       " '44',\n",
       " '45',\n",
       " '450',\n",
       " '46',\n",
       " '461',\n",
       " '469',\n",
       " '47749@sdcc12.ucsd.edu',\n",
       " '486',\n",
       " '486dlc',\n",
       " '486dlc-25',\n",
       " '486dlc-33',\n",
       " '486dru2',\n",
       " '486dx',\n",
       " '486dx-33',\n",
       " '486dx2/66',\n",
       " '486sx-25',\n",
       " '487',\n",
       " '49',\n",
       " '4:11',\n",
       " '4:6',\n",
       " '5',\n",
       " '5,000',\n",
       " '5-month',\n",
       " '5.0',\n",
       " '5.25',\n",
       " '5.61/1.34',\n",
       " '50',\n",
       " '50+mph',\n",
       " '500',\n",
       " '5000',\n",
       " '503)-750',\n",
       " '503)-752',\n",
       " '50mhz',\n",
       " '51',\n",
       " '512',\n",
       " '512k',\n",
       " '512x512',\n",
       " '53',\n",
       " '55',\n",
       " '55-year',\n",
       " '550',\n",
       " '56',\n",
       " '57',\n",
       " '58',\n",
       " '58009',\n",
       " '5:58',\n",
       " '5mb',\n",
       " '6',\n",
       " '6.0',\n",
       " '6.0.5',\n",
       " '6.0.7',\n",
       " '6.0.8l',\n",
       " '60',\n",
       " '600',\n",
       " '60ns',\n",
       " '61',\n",
       " '610',\n",
       " '624',\n",
       " '63',\n",
       " '63-year',\n",
       " '63101',\n",
       " '635',\n",
       " '64',\n",
       " '640x480',\n",
       " '6426',\n",
       " '6429',\n",
       " '65',\n",
       " '650',\n",
       " '6531',\n",
       " '6587',\n",
       " '66',\n",
       " '66319@yuma',\n",
       " '66mhz',\n",
       " '67',\n",
       " '677',\n",
       " '679',\n",
       " '68020',\n",
       " '685',\n",
       " '69',\n",
       " '6:17',\n",
       " '6:9',\n",
       " '6a',\n",
       " '6b',\n",
       " '6b.',\n",
       " '7',\n",
       " '7.11',\n",
       " '70',\n",
       " '7000',\n",
       " '70707.453@compuserve.com',\n",
       " '71',\n",
       " '711',\n",
       " '713',\n",
       " '715',\n",
       " '716',\n",
       " '72',\n",
       " '727x525',\n",
       " '734,000',\n",
       " '74140,2055',\n",
       " '75',\n",
       " '7544',\n",
       " '76',\n",
       " '78',\n",
       " '79',\n",
       " '7:09',\n",
       " '8',\n",
       " '8-bit',\n",
       " '8.3mb',\n",
       " '8.60a',\n",
       " '80',\n",
       " '800',\n",
       " '800,000',\n",
       " '80307',\n",
       " '81',\n",
       " '8177',\n",
       " '8191',\n",
       " '82khz',\n",
       " '83',\n",
       " '84',\n",
       " '8400',\n",
       " '841099',\n",
       " '8424',\n",
       " '85',\n",
       " '850w',\n",
       " '85226',\n",
       " '86',\n",
       " '89',\n",
       " '8:31,32',\n",
       " '8:51',\n",
       " '8:7',\n",
       " '8^',\n",
       " '8aohonj024n@sktb.demon.co.uk',\n",
       " '8bit',\n",
       " '8o',\n",
       " '9',\n",
       " '9.4',\n",
       " '90',\n",
       " '909',\n",
       " '90hz',\n",
       " '91',\n",
       " '9146',\n",
       " '9199',\n",
       " '92',\n",
       " '93',\n",
       " '930422.113530.7w1.rusnews.w165w@mantis.co.uk',\n",
       " '93107.144339saundrsg@qucdn.queensu.ca',\n",
       " '94',\n",
       " '95',\n",
       " '95008',\n",
       " '963829',\n",
       " '97330',\n",
       " '9760',\n",
       " '9781',\n",
       " '97de2b5c3749148c',\n",
       " '98',\n",
       " '9995',\n",
       " '9:06',\n",
       " '9:38',\n",
       " '9th',\n",
       " ':)',\n",
       " ':-)',\n",
       " ':-|',\n",
       " ':|',\n",
       " '@psuvm.psu.edu',\n",
       " '\\\\/',\n",
       " '\\\\\\\\',\n",
       " '\\\\\\\\\\\\-',\n",
       " '\\\\\\\\_))//-||',\n",
       " '\\\\__l_l(_/\\\\',\n",
       " '\\\\x/',\n",
       " '^^^^^^^^^^^^^^^',\n",
       " '^^^^^^^^^^^^^^^^^^^^^^^^^^^^^^^',\n",
       " 'a.',\n",
       " 'a.b.',\n",
       " 'a.s.s',\n",
       " 'a7fa40e1a201f2e6@b62182.student.cwru.edu',\n",
       " 'a_rubin.735496128@dsg4.dse.beckman.com',\n",
       " 'a_rubin@dsg4.dse.beckman.com',\n",
       " 'aa07384',\n",
       " 'aa12484',\n",
       " 'aa26423',\n",
       " 'aaa',\n",
       " 'aaron',\n",
       " 'aas7@po',\n",
       " 'ab',\n",
       " 'aberration',\n",
       " 'abet',\n",
       " 'abg',\n",
       " 'ability',\n",
       " 'able',\n",
       " \"abnormal'--\",\n",
       " 'abode',\n",
       " 'abortion',\n",
       " 'abpsoft',\n",
       " 'absence',\n",
       " 'absolute',\n",
       " 'absolutely',\n",
       " 'absolutes',\n",
       " 'absolutist',\n",
       " 'absorption',\n",
       " 'abstract',\n",
       " 'absurd',\n",
       " 'abuse',\n",
       " 'academically',\n",
       " 'academy',\n",
       " 'accelerate',\n",
       " 'accept',\n",
       " 'acceptable',\n",
       " 'acceptance',\n",
       " 'access',\n",
       " 'accomplish',\n",
       " 'accomplishment',\n",
       " 'accord',\n",
       " 'account',\n",
       " 'accountant',\n",
       " 'accounting',\n",
       " 'accumulate',\n",
       " 'accumulation',\n",
       " 'accuracy',\n",
       " 'accurate',\n",
       " 'accurately',\n",
       " 'accuse',\n",
       " 'accuser',\n",
       " 'achieve',\n",
       " 'achille',\n",
       " 'achilles',\n",
       " 'achkar',\n",
       " 'acknowledgement',\n",
       " 'aclu',\n",
       " 'acns.colostate',\n",
       " 'acorn',\n",
       " 'acquire',\n",
       " 'acquisition',\n",
       " 'acquisitive',\n",
       " 'act',\n",
       " 'action',\n",
       " 'active',\n",
       " 'actively',\n",
       " 'activities',\n",
       " 'activity',\n",
       " 'actual',\n",
       " 'actuality',\n",
       " 'actually',\n",
       " 'ad',\n",
       " 'adams',\n",
       " 'adaptation',\n",
       " 'add',\n",
       " 'adda',\n",
       " 'addition',\n",
       " 'additional',\n",
       " 'address',\n",
       " 'adequate',\n",
       " 'adhere',\n",
       " 'adirondack',\n",
       " 'adjacent',\n",
       " 'adjusment',\n",
       " 'adjust',\n",
       " 'adjustment',\n",
       " 'admire',\n",
       " 'admission',\n",
       " 'admit',\n",
       " 'adobe',\n",
       " 'adopt',\n",
       " 'adpro',\n",
       " 'adrenaline',\n",
       " 'adrenalize',\n",
       " 'adrie',\n",
       " 'adrie@ica.philips.nl',\n",
       " 'adult',\n",
       " 'advance',\n",
       " 'advanced',\n",
       " 'advantage',\n",
       " 'advertise',\n",
       " 'advertising',\n",
       " 'advice',\n",
       " 'advise',\n",
       " 'advocate',\n",
       " 'aesthetic',\n",
       " 'affect',\n",
       " 'afflict',\n",
       " 'afford',\n",
       " 'affordable',\n",
       " 'afraid',\n",
       " 'african',\n",
       " 'age',\n",
       " 'agency',\n",
       " 'agenda',\n",
       " 'agent',\n",
       " 'ago',\n",
       " 'agree',\n",
       " 'agreement',\n",
       " 'agressive',\n",
       " 'ah',\n",
       " 'ahead',\n",
       " 'ahha',\n",
       " 'ahl',\n",
       " 'ahl-news-request@andrew.cmu.edu',\n",
       " 'ahold',\n",
       " 'aid',\n",
       " 'aids',\n",
       " 'ailment',\n",
       " 'aim',\n",
       " 'ainsworth',\n",
       " 'ajay',\n",
       " 'ajayshah@almaak.usc.edu',\n",
       " 'aka',\n",
       " 'al',\n",
       " 'alan',\n",
       " 'alanm@efi.com',\n",
       " 'alas',\n",
       " 'alazzurra',\n",
       " 'albea',\n",
       " 'albeaj@jima.b17d.ingr.com',\n",
       " 'alch161.zip',\n",
       " 'alchemy',\n",
       " 'alcohol',\n",
       " 'aldus',\n",
       " 'alexander',\n",
       " 'alfred',\n",
       " 'algorithm',\n",
       " 'algorythm',\n",
       " 'alice',\n",
       " 'alignment',\n",
       " 'alive',\n",
       " 'aliyah',\n",
       " 'alkaline',\n",
       " 'allege',\n",
       " 'alleged',\n",
       " 'allen',\n",
       " 'allmartin',\n",
       " 'allocate',\n",
       " 'allow',\n",
       " 'allude',\n",
       " 'almighty',\n",
       " 'alot',\n",
       " 'alphabet',\n",
       " 'als@cpsg.com.au',\n",
       " 'als@kowari.cpsg.com.au',\n",
       " 'alt.atheism',\n",
       " 'altered',\n",
       " 'alternative',\n",
       " 'alumnus',\n",
       " 'alvin',\n",
       " 'amanda',\n",
       " 'amanda@intercon.com',\n",
       " 'amann',\n",
       " 'amann@iam.unibe.ch',\n",
       " 'amateur',\n",
       " 'amazing',\n",
       " 'amazingly',\n",
       " 'amendment',\n",
       " 'america',\n",
       " 'american',\n",
       " 'americans',\n",
       " 'amiga',\n",
       " 'amiga.physik.unizh.ch',\n",
       " 'amiga.physik.unizh.ch/',\n",
       " 'amigados',\n",
       " 'amigajpegv4.lha',\n",
       " 'amigas',\n",
       " 'aminet',\n",
       " 'amj@rsf.atd.ucar.edu',\n",
       " 'ammo',\n",
       " 'amolitor@nmsu.edu',\n",
       " 'amonte',\n",
       " 'amortize',\n",
       " 'amusing',\n",
       " 'analog',\n",
       " 'analogy',\n",
       " 'analysis',\n",
       " 'analytic',\n",
       " 'analyze',\n",
       " 'ancient',\n",
       " 'and/or',\n",
       " 'andersson',\n",
       " 'andre',\n",
       " 'andre_beck@irs.inf',\n",
       " 'andresen',\n",
       " 'andrew',\n",
       " 'andy',\n",
       " 'angel@foghorn_leghorn.coe.northeastern.edu',\n",
       " 'angeles',\n",
       " 'anger',\n",
       " 'angles',\n",
       " 'angry',\n",
       " 'anim',\n",
       " 'animal',\n",
       " 'animation',\n",
       " 'announce',\n",
       " 'announcement',\n",
       " 'annoy',\n",
       " 'anonymous',\n",
       " 'answer',\n",
       " 'antarctic',\n",
       " 'anthony',\n",
       " 'anti',\n",
       " 'anti-',\n",
       " 'antigay',\n",
       " 'anybody',\n",
       " 'anymore',\n",
       " 'anytime',\n",
       " 'apanjabi@guvax.acc.georgetown.edu',\n",
       " 'api',\n",
       " 'apollo',\n",
       " 'apology',\n",
       " 'apostle',\n",
       " 'apoylis@inode.com',\n",
       " 'app',\n",
       " 'appal',\n",
       " 'apparent',\n",
       " 'apparently',\n",
       " 'appeal',\n",
       " 'appear',\n",
       " 'append',\n",
       " 'applaud',\n",
       " 'apple',\n",
       " 'application',\n",
       " 'applied',\n",
       " 'apply',\n",
       " 'appreciate',\n",
       " 'apprehend',\n",
       " 'approach',\n",
       " 'appropriate',\n",
       " 'appropriately',\n",
       " 'approximate',\n",
       " 'approximately',\n",
       " 'apr',\n",
       " 'apr.10.05.32.29.1993.14388@athos.rutgers.edu',\n",
       " 'apr.13.00.08.35.1993.28412@athos.rutgers.edu',\n",
       " 'apr.20.10.27.01.1993.9195@romulus.rutgers.edu',\n",
       " 'april',\n",
       " 'ar',\n",
       " 'ar-15',\n",
       " 'arab',\n",
       " 'arbitrary',\n",
       " 'arbor.mi.us',\n",
       " 'archie',\n",
       " 'archimedes',\n",
       " 'archival',\n",
       " 'archive',\n",
       " 'archiver',\n",
       " 'archives',\n",
       " 'area',\n",
       " 'argue',\n",
       " 'arguer',\n",
       " 'argument',\n",
       " 'arise',\n",
       " 'aristotelian',\n",
       " 'arithmetic',\n",
       " 'arizona',\n",
       " 'arlen',\n",
       " 'arlington',\n",
       " 'arm',\n",
       " 'armchair',\n",
       " 'arouse',\n",
       " 'arpa',\n",
       " 'array',\n",
       " 'arrive',\n",
       " 'arrogance',\n",
       " 'arrogant',\n",
       " 'arrogantly',\n",
       " 'art',\n",
       " 'arthur',\n",
       " 'arthur@pnet01.cts.com',\n",
       " 'article',\n",
       " 'artieb@vnet',\n",
       " 'artifact',\n",
       " 'arto',\n",
       " 'arts',\n",
       " 'artwork',\n",
       " 'as010b@uhura.cc.rochester.edu',\n",
       " 'ascii',\n",
       " 'asdg',\n",
       " 'aside',\n",
       " 'ask',\n",
       " 'aspect',\n",
       " 'ass',\n",
       " 'assassination',\n",
       " 'assault',\n",
       " 'assemble',\n",
       " 'assembly',\n",
       " 'assert',\n",
       " 'assertion',\n",
       " 'asshole',\n",
       " 'assist',\n",
       " 'associate',\n",
       " 'assume',\n",
       " 'assumption',\n",
       " 'assurance',\n",
       " 'assure',\n",
       " 'astigmatism',\n",
       " 'aston',\n",
       " 'astray',\n",
       " 'astronomer',\n",
       " 'astronomy',\n",
       " 'astros',\n",
       " 'asynchronous',\n",
       " 'at&t',\n",
       " 'atal',\n",
       " 'atari',\n",
       " 'atari.archive.umich.edu',\n",
       " 'ataris',\n",
       " 'atboyken@iastate.edu',\n",
       " 'atd',\n",
       " 'atheism',\n",
       " 'atheist',\n",
       " 'athene.cs.tu',\n",
       " 'athiests',\n",
       " 'ati',\n",
       " 'atmospheric',\n",
       " 'attack',\n",
       " 'attempt',\n",
       " 'attention',\n",
       " 'attic',\n",
       " 'attitude',\n",
       " 'attorney',\n",
       " 'audit',\n",
       " 'augjpeg',\n",
       " 'august',\n",
       " 'aus$125.00',\n",
       " 'australasian',\n",
       " 'australia',\n",
       " 'author',\n",
       " 'authoritarian',\n",
       " 'authoritative',\n",
       " 'authority',\n",
       " 'autocad',\n",
       " 'autograph',\n",
       " 'autographed',\n",
       " 'automatic',\n",
       " 'automatically',\n",
       " 'automation',\n",
       " 'autoweek',\n",
       " 'av;ou',\n",
       " 'av@cs.uta.fi',\n",
       " 'av@kielo.uta.fi',\n",
       " 'av@uta.fi',\n",
       " 'available',\n",
       " 'available(they',\n",
       " 'aver',\n",
       " 'average',\n",
       " 'aviation',\n",
       " 'avoid',\n",
       " 'aw',\n",
       " 'award',\n",
       " 'aware',\n",
       " 'away',\n",
       " 'awd',\n",
       " 'awful',\n",
       " 'awfully',\n",
       " 'awhile',\n",
       " 'axe',\n",
       " 'axelsson',\n",
       " 'az',\n",
       " 'b',\n",
       " 'b-',\n",
       " ...]"
      ]
     },
     "execution_count": 90,
     "metadata": {},
     "output_type": "execute_result"
    }
   ],
   "source": [
    "vectorizer.get_feature_names()"
   ]
  },
  {
   "cell_type": "code",
   "execution_count": null,
   "metadata": {
    "Collapsed": "false"
   },
   "outputs": [],
   "source": []
  }
 ],
 "metadata": {
  "kernelspec": {
   "display_name": "Python 3.7.3 64-bit ('base': conda)",
   "language": "python",
   "name": "python37364bitbasecondaec3359f57daf47e5be8d0ffe5590fea3"
  },
  "language_info": {
   "codemirror_mode": {
    "name": "ipython",
    "version": 3
   },
   "file_extension": ".py",
   "mimetype": "text/x-python",
   "name": "python",
   "nbconvert_exporter": "python",
   "pygments_lexer": "ipython3",
   "version": "3.7.3"
  },
  "toc-autonumbering": true,
  "toc-showcode": false,
  "toc-showmarkdowntxt": false
 },
 "nbformat": 4,
 "nbformat_minor": 4
}
